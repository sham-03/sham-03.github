{
 "cells": [
  {
   "attachments": {},
   "cell_type": "markdown",
   "metadata": {},
   "source": [
    "https://data.binance.vision/data/futures/cm/daily/klines/LTCUSD_PERP/1m/LTCUSD_PERP-1m-2023-01-23.zip Minute (1440 x 12)\n",
    "\n",
    "\n",
    "CREATE FUNCTION to GET & SAVE FOLLOWING DATA in (crypto/usd):\n",
    "\n",
    "https://data.binance.vision/data/futures/cm/daily/klines/"
   ]
  },
  {
   "cell_type": "code",
   "execution_count": 86,
   "metadata": {},
   "outputs": [
    {
     "name": "stdout",
     "output_type": "stream",
     "text": [
      "                                           open_time  \\\n",
      "0  [1674432000000, 1674432060000, 1674432120000, ...   \n",
      "\n",
      "                                                high  \\\n",
      "0  [87.67, 87.65, 87.62, 87.8, 87.87, 87.91, 87.9...   \n",
      "\n",
      "                                                 low  \\\n",
      "0  [87.59, 87.57, 87.6, 87.62, 87.8, 87.88, 87.88...   \n",
      "\n",
      "                                                open  \\\n",
      "0  [87.59, 87.65, 87.6, 87.62, 87.8, 87.88, 87.92...   \n",
      "\n",
      "                                               close  \n",
      "0  [87.65, 87.59, 87.62, 87.8, 87.87, 87.91, 87.9...  \n"
     ]
    }
   ],
   "source": [
    "import pandas as pd\n",
    "import numpy as np\n",
    "import datetime as dt\n",
    "time_list = []\n",
    "high_list = []\n",
    "low_list = []\n",
    "open_list = []\n",
    "close_list = []\n",
    "\n",
    "current_time = dt.datetime.now()\n",
    "csv = pd.read_csv('https://data.binance.vision/data/futures/cm/daily/klines/LTCUSD_PERP/1m/LTCUSD_PERP-1m-2023-01-23.zip')\n",
    "time_list.append([t for t in csv['open_time']])\n",
    "high_list.append([h for h in csv['high']])\n",
    "low_list.append([l for l in csv['low']])\n",
    "open_list.append([o for o in csv['open']])\n",
    "close_list.append([c for c in csv['close']])\n",
    "frame = {'open_time': time_list, 'high': high_list, 'low': low_list, 'open': open_list, 'close': close_list}\n",
    "result = pd.DataFrame(frame)\n",
    "print(result)"
   ]
  },
  {
   "cell_type": "code",
   "execution_count": 99,
   "metadata": {},
   "outputs": [
    {
     "name": "stdout",
     "output_type": "stream",
     "text": [
      "93.2\n",
      "92.67\n"
     ]
    }
   ],
   "source": [
    "high = np.array(high_list)\n",
    "print(high.max())\n",
    "low = np.array(low_list)\n",
    "print(low.max())"
   ]
  }
 ],
 "metadata": {
  "kernelspec": {
   "display_name": "Python 3",
   "language": "python",
   "name": "python3"
  },
  "language_info": {
   "codemirror_mode": {
    "name": "ipython",
    "version": 3
   },
   "file_extension": ".py",
   "mimetype": "text/x-python",
   "name": "python",
   "nbconvert_exporter": "python",
   "pygments_lexer": "ipython3",
   "version": "3.9.10"
  },
  "orig_nbformat": 4,
  "vscode": {
   "interpreter": {
    "hash": "b0fa6594d8f4cbf19f97940f81e996739fb7646882a419484c72d19e05852a7e"
   }
  }
 },
 "nbformat": 4,
 "nbformat_minor": 2
}
